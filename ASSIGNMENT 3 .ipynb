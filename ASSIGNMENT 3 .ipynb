{
 "cells": [
  {
   "cell_type": "markdown",
   "metadata": {},
   "source": [
    "# Question 1"
   ]
  },
  {
   "cell_type": "code",
   "execution_count": 8,
   "metadata": {},
   "outputs": [
    {
     "name": "stdout",
     "output_type": "stream",
     "text": [
      "Twinkle, Twinkle, Little star,\n",
      "\t How I wonder what you are!\n",
      "\t\tUp above the world so high,\n",
      "\t\tLike a diamond in the sky.\n",
      "Twinkle, twinkle, little star,\n",
      "\tHow I wonder what you are\n"
     ]
    }
   ],
   "source": [
    "print(\"Twinkle, Twinkle, Little star,\\n\\t How I wonder what you are!\\n\\t\\tUp above the world so high,\\n\\t\\tLike a diamond in the sky.\\nTwinkle, twinkle, little star,\\n\\tHow I wonder what you are\")"
   ]
  },
  {
   "cell_type": "markdown",
   "metadata": {},
   "source": [
    "# Question 2"
   ]
  },
  {
   "cell_type": "code",
   "execution_count": 28,
   "metadata": {},
   "outputs": [
    {
     "name": "stdout",
     "output_type": "stream",
     "text": [
      "3.7.4 (default, Aug  9 2019, 18:34:13) [MSC v.1915 64 bit (AMD64)]\n"
     ]
    }
   ],
   "source": [
    "import sys\n",
    "version = sys.version\n",
    "print(version )"
   ]
  },
  {
   "cell_type": "markdown",
   "metadata": {},
   "source": [
    "# Question 3"
   ]
  },
  {
   "cell_type": "code",
   "execution_count": 18,
   "metadata": {},
   "outputs": [
    {
     "name": "stdout",
     "output_type": "stream",
     "text": [
      "Current Date And Time\n",
      "10-23-2021 \n",
      "19:36:31\n"
     ]
    }
   ],
   "source": [
    "import datetime\n",
    "now = datetime.datetime.now()\n",
    "print(\"Current Date And Time\")\n",
    "print(now.strftime(\"%m-%d-%Y \\n%H:%M:%S\"))"
   ]
  },
  {
   "cell_type": "markdown",
   "metadata": {},
   "source": [
    "# Question 4"
   ]
  },
  {
   "cell_type": "code",
   "execution_count": 20,
   "metadata": {},
   "outputs": [
    {
     "name": "stdout",
     "output_type": "stream",
     "text": [
      "Enter the radius of the circle to calculate the area: 34.4\n",
      "Area:  3718\n"
     ]
    }
   ],
   "source": [
    "import math\n",
    "radius = float(input(\"Enter the radius of the circle to calculate the area: \"))\n",
    "area = math.pi*radius**2\n",
    "print(\"Area: \",round(area))"
   ]
  },
  {
   "cell_type": "markdown",
   "metadata": {},
   "source": [
    "# Question 5"
   ]
  },
  {
   "cell_type": "code",
   "execution_count": 21,
   "metadata": {},
   "outputs": [
    {
     "name": "stdout",
     "output_type": "stream",
     "text": [
      "Please enter your First and last nameAisha Masroor\n",
      "roorsaM ahsiA\n"
     ]
    }
   ],
   "source": [
    "name = str(input(\"Please enter your First and last name\"))\n",
    "reverse = name[::-1]\n",
    "print(reverse)"
   ]
  },
  {
   "cell_type": "markdown",
   "metadata": {},
   "source": [
    "# Question 6"
   ]
  },
  {
   "cell_type": "code",
   "execution_count": 25,
   "metadata": {},
   "outputs": [
    {
     "name": "stdout",
     "output_type": "stream",
     "text": [
      "Please enter whatever you want? 365\n",
      "Please enter whatever you want?  days in a year\n",
      "365 days in a year\n"
     ]
    }
   ],
   "source": [
    "input_1 = input(\"Please enter whatever you want? \")\n",
    "input_2 = input(\"Please enter whatever you want? \")\n",
    "add = input_1 +  input_2\n",
    "print(add)"
   ]
  },
  {
   "cell_type": "markdown",
   "metadata": {},
   "source": [
    "# Question 7"
   ]
  },
  {
   "cell_type": "code",
   "execution_count": 29,
   "metadata": {},
   "outputs": [
    {
     "name": "stdout",
     "output_type": "stream",
     "text": [
      "\t\t\t\tMARKSHEET\n",
      "\t\t\t***************************\n",
      "ENTER YOUR PHYSICS MARKS: 89\n",
      "ENTER YOUR CHEMISTRY MARKS: 95\n",
      "ENTER YOUR MATHEMATICS MARKS: 95\n",
      "ENTER YOUR URDU MARKS: 67\n",
      "ENTER YOUR ENGLISH MARKS: 56\n",
      "OBTAINED MARKS: 402\n",
      "YOUR PERCENTAGE: 80 %\n",
      "Grade A+\n"
     ]
    }
   ],
   "source": [
    "print(\"\\t\\t\\t\\tMARKSHEET\")\n",
    "print(\"\\t\\t\\t***************************\")\n",
    "\n",
    "phy = int(input(\"ENTER YOUR PHYSICS MARKS: \"))\n",
    "chem = int(input(\"ENTER YOUR CHEMISTRY MARKS: \"))\n",
    "math = int(input(\"ENTER YOUR MATHEMATICS MARKS: \"))\n",
    "urdu = int(input(\"ENTER YOUR URDU MARKS: \"))\n",
    "english = int(input(\"ENTER YOUR ENGLISH MARKS: \"))\n",
    "\n",
    "total = phy+chem+math+urdu+english\n",
    "per = ((total/500)*100)\n",
    "\n",
    "print(\"OBTAINED MARKS:\",total)\n",
    "print(\"YOUR PERCENTAGE:\",round(per),\"%\")\n",
    "\n",
    "\n",
    "if per < 100 and per > 80:\n",
    "    print(\"Grade A+\")\n",
    "elif per < 80 and per >70:\n",
    "    print(\"Grade A\")\n",
    "elif per < 70 and per > 60:\n",
    "    print(\"Grade B\")\n",
    "elif per < 60 and per >50:\n",
    "    print(\"Grade C\")"
   ]
  },
  {
   "cell_type": "markdown",
   "metadata": {},
   "source": [
    "# Question 8"
   ]
  },
  {
   "cell_type": "code",
   "execution_count": 42,
   "metadata": {},
   "outputs": [
    {
     "name": "stdout",
     "output_type": "stream",
     "text": [
      "Enter any number: 45\n",
      "odd\n"
     ]
    }
   ],
   "source": [
    "num = int(input(\"Enter any number: \"))\n",
    "\n",
    "if num % 2 == 0:\n",
    "    print(\"Even\")\n",
    "else:\n",
    "    print(\"odd\")\n",
    "        \n"
   ]
  },
  {
   "cell_type": "markdown",
   "metadata": {},
   "source": [
    "# Question 9"
   ]
  },
  {
   "cell_type": "code",
   "execution_count": 45,
   "metadata": {},
   "outputs": [
    {
     "name": "stdout",
     "output_type": "stream",
     "text": [
      "4\n"
     ]
    }
   ],
   "source": [
    "List = [\"apple\",\"banana\",\"orange\",\"grapes\"]\n",
    "print(len(List))"
   ]
  },
  {
   "cell_type": "markdown",
   "metadata": {},
   "source": [
    "# Question 10"
   ]
  },
  {
   "cell_type": "code",
   "execution_count": 19,
   "metadata": {},
   "outputs": [
    {
     "name": "stdout",
     "output_type": "stream",
     "text": [
      "Sum of given List is:  21\n"
     ]
    }
   ],
   "source": [
    "lis = [1,2,3,4,5,6]\n",
    "sum_of_lis = sum(lis)\n",
    "print(\"Sum of given List is: \",sum_of_lis)"
   ]
  },
  {
   "cell_type": "markdown",
   "metadata": {},
   "source": [
    "# Question 11"
   ]
  },
  {
   "cell_type": "code",
   "execution_count": 61,
   "metadata": {
    "scrolled": true
   },
   "outputs": [
    {
     "name": "stdout",
     "output_type": "stream",
     "text": [
      "40\n"
     ]
    }
   ],
   "source": [
    "List = [1,3,4,6,10,15,2,30,40,35,25]\n",
    "max1 = 0\n",
    "for i in List:\n",
    "    if i > max1:\n",
    "        max1 = i\n",
    "print(max1)"
   ]
  },
  {
   "cell_type": "markdown",
   "metadata": {},
   "source": [
    "# Question 12"
   ]
  },
  {
   "cell_type": "code",
   "execution_count": 51,
   "metadata": {},
   "outputs": [
    {
     "name": "stdout",
     "output_type": "stream",
     "text": [
      "1\n",
      "1\n",
      "2\n",
      "3\n"
     ]
    }
   ],
   "source": [
    "List = [1, 1, 2, 3, 5, 8, 13, 21, 34, 55, 89]\n",
    "for i in List:\n",
    "    if i < 5:\n",
    "        print(i)"
   ]
  }
 ],
 "metadata": {
  "kernelspec": {
   "display_name": "Python 3",
   "language": "python",
   "name": "python3"
  },
  "language_info": {
   "codemirror_mode": {
    "name": "ipython",
    "version": 3
   },
   "file_extension": ".py",
   "mimetype": "text/x-python",
   "name": "python",
   "nbconvert_exporter": "python",
   "pygments_lexer": "ipython3",
   "version": "3.7.4"
  }
 },
 "nbformat": 4,
 "nbformat_minor": 2
}
